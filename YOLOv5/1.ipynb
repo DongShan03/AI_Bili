{
 "cells": [
  {
   "cell_type": "code",
   "execution_count": 1,
   "id": "7d512d5c",
   "metadata": {},
   "outputs": [
    {
     "name": "stdout",
     "output_type": "stream",
     "text": [
      "4\n"
     ]
    }
   ],
   "source": [
    "if n := len([1, 2, 3, 4]):\n",
    "    print(n)"
   ]
  },
  {
   "cell_type": "code",
   "execution_count": 2,
   "id": "6f75c721",
   "metadata": {},
   "outputs": [],
   "source": [
    "import numpy as np"
   ]
  },
  {
   "cell_type": "code",
   "execution_count": 4,
   "id": "61cc7851",
   "metadata": {},
   "outputs": [
    {
     "data": {
      "text/plain": [
       "array([0., 2., 4.])"
      ]
     },
     "execution_count": 4,
     "metadata": {},
     "output_type": "execute_result"
    }
   ],
   "source": [
    "np.linspace(0, 5 - 1,3)"
   ]
  },
  {
   "cell_type": "code",
   "execution_count": 5,
   "id": "0b5456c6",
   "metadata": {},
   "outputs": [
    {
     "data": {
      "text/plain": [
       "array([0, 1, 2, 3, 4, 5])"
      ]
     },
     "execution_count": 5,
     "metadata": {},
     "output_type": "execute_result"
    }
   ],
   "source": [
    "np.arange(6)"
   ]
  },
  {
   "cell_type": "code",
   "execution_count": 6,
   "id": "d7b00ad8",
   "metadata": {},
   "outputs": [],
   "source": [
    "def add(a, b):\n",
    "    a += 1"
   ]
  },
  {
   "cell_type": "code",
   "execution_count": 9,
   "id": "c8f8dd21",
   "metadata": {},
   "outputs": [],
   "source": [
    "import random\n",
    "def cutout(im, p=0.5):\n",
    "    if random.random() < p:\n",
    "        h, w = im.shape[:2]\n",
    "        scales = [0.5] * 1 + [0.25] * 2 + [0.125] * 4 + [0.0625] * 8 + [0.03125] * 16  # image size fraction\n",
    "        for s in scales:\n",
    "            mask_h = random.randint(1, int(h * s))  # create random masks\n",
    "            mask_w = random.randint(1, int(w * s))\n",
    "\n",
    "            # box\n",
    "            xmin = max(0, random.randint(0, w) - mask_w // 2)\n",
    "            ymin = max(0, random.randint(0, h) - mask_h // 2)\n",
    "            xmax = min(w, xmin + mask_w)\n",
    "            ymax = min(h, ymin + mask_h)\n",
    "\n",
    "            # apply random color mask\n",
    "            im[ymin:ymax, xmin:xmax] = [random.randint(64, 191) for _ in range(3)]\n",
    "\n",
    "img = np.zeros((10, 10, 3))\n",
    "cutout(img)"
   ]
  },
  {
   "cell_type": "code",
   "execution_count": 11,
   "id": "ba09eec8",
   "metadata": {},
   "outputs": [
    {
     "data": {
      "text/plain": [
       "np.False_"
      ]
     },
     "execution_count": 11,
     "metadata": {},
     "output_type": "execute_result"
    }
   ],
   "source": [
    "img.any()"
   ]
  },
  {
   "cell_type": "code",
   "execution_count": null,
   "id": "073e6477",
   "metadata": {},
   "outputs": [],
   "source": []
  }
 ],
 "metadata": {
  "kernelspec": {
   "display_name": "pytorch",
   "language": "python",
   "name": "python3"
  },
  "language_info": {
   "codemirror_mode": {
    "name": "ipython",
    "version": 3
   },
   "file_extension": ".py",
   "mimetype": "text/x-python",
   "name": "python",
   "nbconvert_exporter": "python",
   "pygments_lexer": "ipython3",
   "version": "3.11.0"
  }
 },
 "nbformat": 4,
 "nbformat_minor": 5
}
