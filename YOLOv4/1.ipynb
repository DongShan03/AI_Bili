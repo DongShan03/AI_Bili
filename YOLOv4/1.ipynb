{
 "cells": [
  {
   "cell_type": "code",
   "execution_count": 5,
   "id": "d6c8d9e4",
   "metadata": {},
   "outputs": [
    {
     "name": "stdout",
     "output_type": "stream",
     "text": [
      "[['yolov4--1.pt']]\n"
     ]
    }
   ],
   "source": [
    "import re\n",
    "pattern = re.compile(r\"yolov4--\\d+.pt\")\n",
    "string = [\"yolov4--1.pt\"]\n",
    "print([pattern.findall(i) for i in string])"
   ]
  },
  {
   "cell_type": "code",
   "execution_count": null,
   "id": "6e771627",
   "metadata": {},
   "outputs": [],
   "source": []
  }
 ],
 "metadata": {
  "kernelspec": {
   "display_name": "pytorch",
   "language": "python",
   "name": "python3"
  },
  "language_info": {
   "codemirror_mode": {
    "name": "ipython",
    "version": 3
   },
   "file_extension": ".py",
   "mimetype": "text/x-python",
   "name": "python",
   "nbconvert_exporter": "python",
   "pygments_lexer": "ipython3",
   "version": "3.11.0"
  }
 },
 "nbformat": 4,
 "nbformat_minor": 5
}
